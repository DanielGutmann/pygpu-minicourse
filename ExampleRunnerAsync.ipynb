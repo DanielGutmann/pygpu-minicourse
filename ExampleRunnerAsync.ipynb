{
 "cells": [
  {
   "cell_type": "markdown",
   "metadata": {},
   "source": [
    "Set this name to the base name of the notebook you want to run on a GPU."
   ]
  },
  {
   "cell_type": "code",
   "execution_count": null,
   "metadata": {},
   "outputs": [],
   "source": [
    "%load_ext sbatch_magic"
   ]
  },
  {
   "cell_type": "code",
   "execution_count": null,
   "metadata": {},
   "outputs": [],
   "source": [
    "%%sbatch 01_fractal_cupy\n",
    "#!/bin/bash\n",
    "# GPU job\n",
    "\n",
    "#SBATCH --nodes=1                # node count\n",
    "#SBATCH --ntasks=1               # total number of tasks across all nodes\n",
    "#SBATCH --cpus-per-task=1        # cpu-cores per task (>1 if multi-threaded tasks)\n",
    "#SBATCH --gres=gpu               # number of gpus per node\n",
    "#SBATCH --mem=1G                 # total memory (RAM) per node\n",
    "#SBATCH --time=00:05:00          # total run time limit (HH:MM:SS)\n",
    "\n",
    "module purge\n",
    "module load course/pygpu/default\n",
    "\n",
    "time jupyter nbconvert --to html --execute --ExecutePreprocessor.timeout=60 {name}.ipynb"
   ]
  },
  {
   "cell_type": "markdown",
   "metadata": {},
   "source": [
    "`:tesla_v100:1`"
   ]
  },
  {
   "cell_type": "markdown",
   "metadata": {},
   "source": [
    "Open the new nbconvert notebook to see the output!"
   ]
  },
  {
   "cell_type": "code",
   "execution_count": null,
   "metadata": {},
   "outputs": [],
   "source": [
    "%%sbatch 02_fractal_numba\n",
    "#!/bin/bash\n",
    "# GPU job\n",
    "\n",
    "#SBATCH --nodes=1                # node count\n",
    "#SBATCH --ntasks=1               # total number of tasks across all nodes\n",
    "#SBATCH --cpus-per-task=1        # cpu-cores per task (>1 if multi-threaded tasks)\n",
    "#SBATCH --gres=gpu               # number of gpus per node\n",
    "#SBATCH --mem=1G                 # total memory (RAM) per node\n",
    "#SBATCH --time=00:05:00          # total run time limit (HH:MM:SS)\n",
    "\n",
    "module purge\n",
    "module load course/pygpu/default\n",
    "\n",
    "time jupyter nbconvert --to html --execute --ExecutePreprocessor.timeout=60 {name}.ipynb"
   ]
  },
  {
   "cell_type": "code",
   "execution_count": null,
   "metadata": {},
   "outputs": [],
   "source": []
  }
 ],
 "metadata": {
  "kernelspec": {
   "display_name": "Python 3",
   "language": "python",
   "name": "python3"
  },
  "language_info": {
   "codemirror_mode": {
    "name": "ipython",
    "version": 3
   },
   "file_extension": ".py",
   "mimetype": "text/x-python",
   "name": "python",
   "nbconvert_exporter": "python",
   "pygments_lexer": "ipython3",
   "version": "3.7.4"
  }
 },
 "nbformat": 4,
 "nbformat_minor": 4
}
